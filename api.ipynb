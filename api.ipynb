{
 "cells": [
  {
   "cell_type": "code",
   "execution_count": 1,
   "metadata": {},
   "outputs": [],
   "source": [
    "# Importing required modules\n",
    "import pandas as pd\n",
    "from sqlalchemy import inspect, create_engine"
   ]
  },
  {
   "cell_type": "markdown",
   "metadata": {
    "slideshow": {
     "slide_type": "-"
    }
   },
   "source": [
    "### Store CSV into DataFrame"
   ]
  },
  {
   "cell_type": "code",
   "execution_count": 2,
   "metadata": {},
   "outputs": [],
   "source": [
    "# Location of Csv files\n",
    "appstat_loc = \"Data/Final Data/final_table_all_values.csv\" \n",
    "rentavg_loc = \"Data/Final Data/final_table_clean.csv\"\n",
    "allrent_loc = \"Data/Final Data/rent_application_per_condo_size.csv\""
   ]
  },
  {
   "cell_type": "code",
   "execution_count": 3,
   "metadata": {},
   "outputs": [
    {
     "data": {
      "text/html": [
       "<div>\n",
       "<style scoped>\n",
       "    .dataframe tbody tr th:only-of-type {\n",
       "        vertical-align: middle;\n",
       "    }\n",
       "\n",
       "    .dataframe tbody tr th {\n",
       "        vertical-align: top;\n",
       "    }\n",
       "\n",
       "    .dataframe thead th {\n",
       "        text-align: right;\n",
       "    }\n",
       "</style>\n",
       "<table border=\"1\" class=\"dataframe\">\n",
       "  <thead>\n",
       "    <tr style=\"text-align: right;\">\n",
       "      <th></th>\n",
       "      <th>Unnamed: 0</th>\n",
       "      <th>Year</th>\n",
       "      <th>Total</th>\n",
       "      <th>APPLICATION_TYPE</th>\n",
       "      <th>STATUS</th>\n",
       "      <th>ADDRESS</th>\n",
       "      <th>Postcode</th>\n",
       "      <th>_id</th>\n",
       "      <th>Neighbourhood</th>\n",
       "      <th>Rent</th>\n",
       "    </tr>\n",
       "  </thead>\n",
       "  <tbody>\n",
       "    <tr>\n",
       "      <th>0</th>\n",
       "      <td>146</td>\n",
       "      <td>2014</td>\n",
       "      <td>1,170</td>\n",
       "      <td>CD</td>\n",
       "      <td>Closed</td>\n",
       "      <td>2200 LAKE SHORE BLVD</td>\n",
       "      <td>M8V</td>\n",
       "      <td>115836</td>\n",
       "      <td>New Toronto</td>\n",
       "      <td>879</td>\n",
       "    </tr>\n",
       "    <tr>\n",
       "      <th>1</th>\n",
       "      <td>11</td>\n",
       "      <td>2016</td>\n",
       "      <td>1,240</td>\n",
       "      <td>CD</td>\n",
       "      <td>Closed</td>\n",
       "      <td>383 SORAUREN AVE</td>\n",
       "      <td>M6R</td>\n",
       "      <td>115942</td>\n",
       "      <td>Roncesvalles</td>\n",
       "      <td>1,202</td>\n",
       "    </tr>\n",
       "    <tr>\n",
       "      <th>2</th>\n",
       "      <td>177</td>\n",
       "      <td>2016</td>\n",
       "      <td>1,240</td>\n",
       "      <td>CD</td>\n",
       "      <td>Closed</td>\n",
       "      <td>120 GEORGE HENRY BLVD</td>\n",
       "      <td>M2J</td>\n",
       "      <td>116046</td>\n",
       "      <td>Henry Farm</td>\n",
       "      <td>1,396</td>\n",
       "    </tr>\n",
       "    <tr>\n",
       "      <th>3</th>\n",
       "      <td>54</td>\n",
       "      <td>2015</td>\n",
       "      <td>1,208</td>\n",
       "      <td>CD</td>\n",
       "      <td>Under Review</td>\n",
       "      <td>68 LONG BRANCH AVE</td>\n",
       "      <td>M8W</td>\n",
       "      <td>116433</td>\n",
       "      <td>Long Branch</td>\n",
       "      <td>949</td>\n",
       "    </tr>\n",
       "    <tr>\n",
       "      <th>4</th>\n",
       "      <td>53</td>\n",
       "      <td>2015</td>\n",
       "      <td>1,208</td>\n",
       "      <td>CD</td>\n",
       "      <td>Under Review</td>\n",
       "      <td>68 LONG BRANCH AVE</td>\n",
       "      <td>M8W</td>\n",
       "      <td>116433</td>\n",
       "      <td>Alderwood</td>\n",
       "      <td>1,084</td>\n",
       "    </tr>\n",
       "  </tbody>\n",
       "</table>\n",
       "</div>"
      ],
      "text/plain": [
       "   Unnamed: 0  Year  Total APPLICATION_TYPE         STATUS  \\\n",
       "0         146  2014  1,170               CD         Closed   \n",
       "1          11  2016  1,240               CD         Closed   \n",
       "2         177  2016  1,240               CD         Closed   \n",
       "3          54  2015  1,208               CD  Under Review    \n",
       "4          53  2015  1,208               CD  Under Review    \n",
       "\n",
       "                 ADDRESS Postcode     _id Neighbourhood   Rent  \n",
       "0   2200 LAKE SHORE BLVD      M8V  115836   New Toronto    879  \n",
       "1       383 SORAUREN AVE      M6R  115942  Roncesvalles  1,202  \n",
       "2  120 GEORGE HENRY BLVD      M2J  116046    Henry Farm  1,396  \n",
       "3     68 LONG BRANCH AVE      M8W  116433   Long Branch    949  \n",
       "4     68 LONG BRANCH AVE      M8W  116433     Alderwood  1,084  "
      ]
     },
     "execution_count": 3,
     "metadata": {},
     "output_type": "execute_result"
    }
   ],
   "source": [
    "# Reading csv files using pandas\n",
    "appstat = pd.read_csv(appstat_loc)\n",
    "rentavg = pd.read_csv(rentavg_loc)\n",
    "allrent = pd.read_csv(allrent_loc)\n",
    "rentavg.head()"
   ]
  },
  {
   "cell_type": "markdown",
   "metadata": {},
   "source": [
    "### Connect to local database"
   ]
  },
  {
   "cell_type": "code",
   "execution_count": 18,
   "metadata": {},
   "outputs": [],
   "source": [
    "# Connect to local data base\n",
    "rds_connection_string = \"postgres:postgres@localhost:5432/Housing_cost\"\n",
    "engine = create_engine(f'postgresql://{rds_connection_string}')"
   ]
  },
  {
   "cell_type": "markdown",
   "metadata": {},
   "source": [
    "### Check for tables"
   ]
  },
  {
   "cell_type": "code",
   "execution_count": 22,
   "metadata": {},
   "outputs": [
    {
     "data": {
      "text/plain": [
       "['App_Stat', 'Rent_Avg', 'All_Rent']"
      ]
     },
     "execution_count": 22,
     "metadata": {},
     "output_type": "execute_result"
    }
   ],
   "source": [
    "engine.table_names()"
   ]
  },
  {
   "cell_type": "markdown",
   "metadata": {},
   "source": [
    "### Use pandas to load csv converted DataFrame into database"
   ]
  },
  {
   "cell_type": "code",
   "execution_count": 20,
   "metadata": {},
   "outputs": [],
   "source": [
    "appstat.to_sql(name='App_Stat', con=engine, if_exists='append', index=False)\n",
    "rentavg.to_sql(name='Rent_Avg', con=engine, if_exists='append', index=False)\n",
    "allrent.to_sql(name='All_Rent', con=engine, if_exists='append', index=False)"
   ]
  },
  {
   "cell_type": "markdown",
   "metadata": {},
   "source": [
    "### Confirm data has been added by querying the customer_name table"
   ]
  },
  {
   "cell_type": "code",
   "execution_count": 21,
   "metadata": {},
   "outputs": [
    {
     "data": {
      "text/html": [
       "<div>\n",
       "<style scoped>\n",
       "    .dataframe tbody tr th:only-of-type {\n",
       "        vertical-align: middle;\n",
       "    }\n",
       "\n",
       "    .dataframe tbody tr th {\n",
       "        vertical-align: top;\n",
       "    }\n",
       "\n",
       "    .dataframe thead th {\n",
       "        text-align: right;\n",
       "    }\n",
       "</style>\n",
       "<table border=\"1\" class=\"dataframe\">\n",
       "  <thead>\n",
       "    <tr style=\"text-align: right;\">\n",
       "      <th></th>\n",
       "      <th>Unnamed: 0</th>\n",
       "      <th>Year</th>\n",
       "      <th>Total</th>\n",
       "      <th>APPLICATION_TYPE</th>\n",
       "      <th>STATUS</th>\n",
       "      <th>ADDRESS</th>\n",
       "      <th>Postcode</th>\n",
       "      <th>_id</th>\n",
       "      <th>Neighbourhood</th>\n",
       "      <th>Rent</th>\n",
       "    </tr>\n",
       "  </thead>\n",
       "  <tbody>\n",
       "    <tr>\n",
       "      <th>0</th>\n",
       "      <td>146</td>\n",
       "      <td>2014</td>\n",
       "      <td>1,170</td>\n",
       "      <td>CD</td>\n",
       "      <td>Closed</td>\n",
       "      <td>2200 LAKE SHORE BLVD</td>\n",
       "      <td>M8V</td>\n",
       "      <td>115836</td>\n",
       "      <td>New Toronto</td>\n",
       "      <td>879</td>\n",
       "    </tr>\n",
       "    <tr>\n",
       "      <th>1</th>\n",
       "      <td>11</td>\n",
       "      <td>2016</td>\n",
       "      <td>1,240</td>\n",
       "      <td>CD</td>\n",
       "      <td>Closed</td>\n",
       "      <td>383 SORAUREN AVE</td>\n",
       "      <td>M6R</td>\n",
       "      <td>115942</td>\n",
       "      <td>Roncesvalles</td>\n",
       "      <td>1,202</td>\n",
       "    </tr>\n",
       "    <tr>\n",
       "      <th>2</th>\n",
       "      <td>177</td>\n",
       "      <td>2016</td>\n",
       "      <td>1,240</td>\n",
       "      <td>CD</td>\n",
       "      <td>Closed</td>\n",
       "      <td>120 GEORGE HENRY BLVD</td>\n",
       "      <td>M2J</td>\n",
       "      <td>116046</td>\n",
       "      <td>Henry Farm</td>\n",
       "      <td>1,396</td>\n",
       "    </tr>\n",
       "    <tr>\n",
       "      <th>3</th>\n",
       "      <td>54</td>\n",
       "      <td>2015</td>\n",
       "      <td>1,208</td>\n",
       "      <td>CD</td>\n",
       "      <td>Under Review</td>\n",
       "      <td>68 LONG BRANCH AVE</td>\n",
       "      <td>M8W</td>\n",
       "      <td>116433</td>\n",
       "      <td>Long Branch</td>\n",
       "      <td>949</td>\n",
       "    </tr>\n",
       "    <tr>\n",
       "      <th>4</th>\n",
       "      <td>53</td>\n",
       "      <td>2015</td>\n",
       "      <td>1,208</td>\n",
       "      <td>CD</td>\n",
       "      <td>Under Review</td>\n",
       "      <td>68 LONG BRANCH AVE</td>\n",
       "      <td>M8W</td>\n",
       "      <td>116433</td>\n",
       "      <td>Alderwood</td>\n",
       "      <td>1,084</td>\n",
       "    </tr>\n",
       "  </tbody>\n",
       "</table>\n",
       "</div>"
      ],
      "text/plain": [
       "   Unnamed: 0  Year  Total APPLICATION_TYPE         STATUS  \\\n",
       "0         146  2014  1,170               CD         Closed   \n",
       "1          11  2016  1,240               CD         Closed   \n",
       "2         177  2016  1,240               CD         Closed   \n",
       "3          54  2015  1,208               CD  Under Review    \n",
       "4          53  2015  1,208               CD  Under Review    \n",
       "\n",
       "                 ADDRESS Postcode     _id Neighbourhood   Rent  \n",
       "0   2200 LAKE SHORE BLVD      M8V  115836   New Toronto    879  \n",
       "1       383 SORAUREN AVE      M6R  115942  Roncesvalles  1,202  \n",
       "2  120 GEORGE HENRY BLVD      M2J  116046    Henry Farm  1,396  \n",
       "3     68 LONG BRANCH AVE      M8W  116433   Long Branch    949  \n",
       "4     68 LONG BRANCH AVE      M8W  116433     Alderwood  1,084  "
      ]
     },
     "execution_count": 21,
     "metadata": {},
     "output_type": "execute_result"
    }
   ],
   "source": [
    "pd.read_sql_query('select * from \"Rent_Avg\"', con=engine).head()"
   ]
  }
 ],
 "metadata": {
  "kernelspec": {
   "display_name": "Python 3",
   "language": "python",
   "name": "python3"
  },
  "language_info": {
   "codemirror_mode": {
    "name": "ipython",
    "version": 3
   },
   "file_extension": ".py",
   "mimetype": "text/x-python",
   "name": "python",
   "nbconvert_exporter": "python",
   "pygments_lexer": "ipython3",
   "version": "3.7.3"
  },
  "nteract": {
   "version": "0.12.3"
  }
 },
 "nbformat": 4,
 "nbformat_minor": 2
}
